{
 "cells": [
  {
   "cell_type": "markdown",
   "metadata": {},
   "source": [
    "# Comparison between PMF and BPMF model\n",
    "\n",
    "This is a jupyter notebook version of PMF and BPMF with MovieLens 1M dataset examples."
   ]
  },
  {
   "cell_type": "code",
   "execution_count": 1,
   "metadata": {
    "collapsed": true
   },
   "outputs": [],
   "source": [
    "from __future__ import print_function\n",
    "\n",
    "import os\n",
    "import logging\n",
    "import zipfile\n",
    "import numpy as np\n",
    "from six.moves import urllib\n",
    "from numpy.random import RandomState\n",
    "\n",
    "from recommend.utils.datasets import load_movielens_1m_ratings\n",
    "from recommend.pmf import PMF\n",
    "from recommend.bpmf import BPMF\n",
    "from recommend.utils.evaluation import RMSE\n",
    "\n",
    "logging.basicConfig(format='%(levelname)s: %(message)s', level=logging.INFO)\n",
    "rand_state = RandomState(0)"
   ]
  },
  {
   "cell_type": "markdown",
   "metadata": {},
   "source": [
    "### Download MovieLens 1M dataset"
   ]
  },
  {
   "cell_type": "code",
   "execution_count": 2,
   "metadata": {},
   "outputs": [
    {
     "name": "stdout",
     "output_type": "stream",
     "text": [
      "verify success: /Users/chyikweiyau/github/jup_notebook/ml-1m/ratings.dat\n"
     ]
    }
   ],
   "source": [
    "ML_1M_URL = \"http://files.grouplens.org/datasets/movielens/ml-1m.zip\"\n",
    "ML_1M_FOLDER = \"ml-1m\"\n",
    "ML_1M_ZIP_SIZE = 24594131\n",
    "\n",
    "# download MovieLens 1M dataset if necessary\n",
    "def ml_1m_download(folder, file_size):\n",
    "    file_name = \"ratings.dat\"\n",
    "    file_path = os.path.join(os.getcwd(), folder, file_name)\n",
    "    if not os.path.exists(file_path):\n",
    "        print(\"file %s not exists. downloading...\" % file_path)\n",
    "        zip_name, _ = urllib.request.urlretrieve(ML_1M_URL, \"ml-1m.zip\")\n",
    "        with zipfile.ZipFile(zip_name, 'r') as zf:\n",
    "            file_path = zf.extract('ml-1m/ratings.dat')\n",
    "\n",
    "    # check file\n",
    "    statinfo = os.stat(file_path)\n",
    "    if statinfo.st_size == file_size:\n",
    "        print('verify success: %s' % file_path)\n",
    "    else:\n",
    "        raise Exception('verify failed: %s' % file_path)\n",
    "    return file_path\n",
    "\n",
    "# load or download MovieLens 1M dataset\n",
    "rating_file = ml_1m_download(ML_1M_FOLDER, file_size=ML_1M_ZIP_SIZE)"
   ]
  },
  {
   "cell_type": "markdown",
   "metadata": {},
   "source": [
    "### Load ratings data, shuffle, and split it to training and validation set"
   ]
  },
  {
   "cell_type": "code",
   "execution_count": 3,
   "metadata": {},
   "outputs": [
    {
     "name": "stdout",
     "output_type": "stream",
     "text": [
      "num of user: 6040\n",
      "num of item: 3952\n",
      "first user id: 0\n",
      "first min item id: 0\n"
     ]
    }
   ],
   "source": [
    "# load ratings data\n",
    "ratings = load_movielens_1m_ratings(rating_file)\n",
    "n_user = max(ratings[:, 0])\n",
    "n_item = max(ratings[:, 1])\n",
    "\n",
    "# shift user_id & movie_id by 1. let user_id & movie_id start from 0\n",
    "ratings[:, (0, 1)] -= 1\n",
    "\n",
    "print(\"num of user: %d\" % n_user)\n",
    "print(\"num of item: %d\" % n_item)\n",
    "print(\"first user id: %d\" % min(ratings[:, 0]))\n",
    "print(\"first min item id: %d\" % min(ratings[:, 1]))"
   ]
  },
  {
   "cell_type": "code",
   "execution_count": 4,
   "metadata": {},
   "outputs": [
    {
     "name": "stdout",
     "output_type": "stream",
     "text": [
      "training size: 900188\n",
      "validation size: 100021\n"
     ]
    }
   ],
   "source": [
    "# split data to training & testing\n",
    "train_pct = 0.9\n",
    "rand_state.shuffle(ratings)\n",
    "train_size = int(train_pct * ratings.shape[0])\n",
    "train = ratings[:train_size]\n",
    "validation = ratings[train_size:]\n",
    "\n",
    "print(\"training size: %d\" % train.shape[0])\n",
    "print(\"validation size: %d\" % validation.shape[0])"
   ]
  },
  {
   "cell_type": "markdown",
   "metadata": {},
   "source": [
    "### training PMF and BMPF model"
   ]
  },
  {
   "cell_type": "code",
   "execution_count": 5,
   "metadata": {},
   "outputs": [
    {
     "name": "stdout",
     "output_type": "stream",
     "text": [
      "training PMF model...\n"
     ]
    },
    {
     "name": "stderr",
     "output_type": "stream",
     "text": [
      "INFO: iter: 0, train RMSE: 1.107667\n",
      "INFO: iter: 1, train RMSE: 1.092015\n",
      "INFO: iter: 2, train RMSE: 1.073484\n",
      "INFO: iter: 3, train RMSE: 1.058847\n",
      "INFO: iter: 4, train RMSE: 1.048042\n",
      "INFO: iter: 5, train RMSE: 1.043992\n",
      "INFO: iter: 6, train RMSE: 1.034290\n",
      "INFO: iter: 7, train RMSE: 1.021994\n",
      "INFO: iter: 8, train RMSE: 1.011770\n",
      "INFO: iter: 9, train RMSE: 1.002162\n",
      "INFO: iter: 10, train RMSE: 1.000962\n",
      "INFO: iter: 11, train RMSE: 0.986822\n",
      "INFO: iter: 12, train RMSE: 0.970561\n",
      "INFO: iter: 13, train RMSE: 0.958428\n",
      "INFO: iter: 14, train RMSE: 0.953011\n",
      "INFO: iter: 15, train RMSE: 0.945132\n",
      "INFO: iter: 16, train RMSE: 0.940690\n",
      "INFO: iter: 17, train RMSE: 0.937240\n",
      "INFO: iter: 18, train RMSE: 0.931112\n",
      "INFO: iter: 19, train RMSE: 0.935550\n"
     ]
    },
    {
     "name": "stdout",
     "output_type": "stream",
     "text": [
      "training BPMF model...\n"
     ]
    },
    {
     "name": "stderr",
     "output_type": "stream",
     "text": [
      "INFO: iter: 0, train RMSE: 1.003013\n",
      "INFO: iter: 1, train RMSE: 0.923810\n",
      "INFO: iter: 2, train RMSE: 0.883347\n",
      "INFO: iter: 3, train RMSE: 0.875187\n",
      "INFO: iter: 4, train RMSE: 0.864099\n",
      "INFO: iter: 5, train RMSE: 0.854995\n",
      "INFO: iter: 6, train RMSE: 0.847408\n",
      "INFO: iter: 7, train RMSE: 0.840626\n",
      "INFO: iter: 8, train RMSE: 0.836754\n",
      "INFO: iter: 9, train RMSE: 0.832600\n",
      "INFO: iter: 10, train RMSE: 0.828685\n",
      "INFO: iter: 11, train RMSE: 0.825440\n",
      "INFO: iter: 12, train RMSE: 0.822011\n",
      "INFO: iter: 13, train RMSE: 0.818412\n",
      "INFO: iter: 14, train RMSE: 0.815403\n",
      "INFO: iter: 15, train RMSE: 0.812771\n",
      "INFO: iter: 16, train RMSE: 0.810059\n",
      "INFO: iter: 17, train RMSE: 0.807694\n",
      "INFO: iter: 18, train RMSE: 0.804987\n",
      "INFO: iter: 19, train RMSE: 0.803278\n"
     ]
    },
    {
     "data": {
      "text/plain": [
       "<recommend.bpmf.BPMF at 0x109a75cd0>"
      ]
     },
     "execution_count": 5,
     "metadata": {},
     "output_type": "execute_result"
    }
   ],
   "source": [
    "# models settings\n",
    "n_feature = 10\n",
    "eval_iters = 20\n",
    "\n",
    "print(\"training PMF model...\")\n",
    "pmf = PMF(n_user=n_user, n_item=n_item, n_feature=n_feature,\n",
    "          epsilon=25., max_rating=5., min_rating=1., seed=0)\n",
    "pmf.fit(train, n_iters=eval_iters)\n",
    "\n",
    "print(\"training BPMF model...\")\n",
    "bpmf = BPMF(n_user=n_user, n_item=n_item, n_feature=n_feature,\n",
    "            max_rating=5., min_rating=1., seed=0)\n",
    "bpmf.fit(train, n_iters=eval_iters)"
   ]
  },
  {
   "cell_type": "markdown",
   "metadata": {},
   "source": [
    "### Training and validation result"
   ]
  },
  {
   "cell_type": "code",
   "execution_count": 6,
   "metadata": {},
   "outputs": [
    {
     "name": "stdout",
     "output_type": "stream",
     "text": [
      "PMF training RMSE 0.936, validation RMSE 0.956\n",
      "BPMF training RMSE 0.803, validation RMSE 0.867\n"
     ]
    }
   ],
   "source": [
    "# pmf\n",
    "pmf_train_preds = pmf.predict(train[:, :2])\n",
    "pmf_train_rmse = RMSE(pmf_train_preds, train[:, 2])\n",
    "pmf_val_preds = pmf.predict(validation[:, :2])\n",
    "pmf_val_rmse = RMSE(pmf_val_preds, validation[:, 2])\n",
    "\n",
    "#bpmf\n",
    "bpmf_train_preds = bpmf.predict(train[:, :2])\n",
    "bpmf_train_rmse = RMSE(bpmf_train_preds, train[:, 2])\n",
    "bpmf_val_preds = bpmf.predict(validation[:, :2])\n",
    "bpmf_val_rmse = RMSE(bpmf_val_preds, validation[:, 2])\n",
    "\n",
    "print(\"PMF training RMSE %.3f, validation RMSE %.3f\" % (pmf_train_rmse, pmf_val_rmse))\n",
    "print(\"BPMF training RMSE %.3f, validation RMSE %.3f\" % (bpmf_train_rmse, bpmf_val_rmse))"
   ]
  },
  {
   "cell_type": "markdown",
   "metadata": {},
   "source": [
    "### Predict scores for user 0 and the first 10 items"
   ]
  },
  {
   "cell_type": "code",
   "execution_count": 7,
   "metadata": {},
   "outputs": [
    {
     "name": "stdout",
     "output_type": "stream",
     "text": [
      "PMF/BPMF prediction for user 0\n",
      "item 0: pmf: 3.940, bpmf: 4.246\n",
      "item 1: pmf: 3.462, bpmf: 3.666\n",
      "item 2: pmf: 3.366, bpmf: 3.642\n",
      "item 3: pmf: 3.263, bpmf: 3.549\n",
      "item 4: pmf: 3.329, bpmf: 3.860\n",
      "item 5: pmf: 3.957, bpmf: 4.401\n",
      "item 6: pmf: 3.740, bpmf: 3.692\n",
      "item 7: pmf: 3.444, bpmf: 4.379\n",
      "item 8: pmf: 3.169, bpmf: 3.734\n",
      "item 9: pmf: 3.666, bpmf: 3.999\n"
     ]
    }
   ],
   "source": [
    "user_id = 0\n",
    "\n",
    "pred_items = np.array([[user_id, i] for i in xrange(10)])\n",
    "# pmf\n",
    "pmf_pred = pmf.predict(pred_items)\n",
    "bpmf_pred = bpmf.predict(pred_items)\n",
    "\n",
    "print(\"PMF/BPMF prediction for user %d\" % user_id)\n",
    "for i in range(10):\n",
    "    print(\"item %d: pmf: %.3f, bpmf: %.3f\" % (i, pmf_pred[i], bpmf_pred[i]))"
   ]
  }
 ],
 "metadata": {
  "kernelspec": {
   "display_name": "Python 2",
   "language": "python",
   "name": "python2"
  },
  "language_info": {
   "codemirror_mode": {
    "name": "ipython",
    "version": 2
   },
   "file_extension": ".py",
   "mimetype": "text/x-python",
   "name": "python",
   "nbconvert_exporter": "python",
   "pygments_lexer": "ipython2",
   "version": "2.7.10"
  }
 },
 "nbformat": 4,
 "nbformat_minor": 2
}
